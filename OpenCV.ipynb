{
 "cells": [
  {
   "cell_type": "markdown",
   "id": "40e08b55",
   "metadata": {},
   "source": [
    "__opencv installation can be done in 2 ways__\n",
    "- conda install -c conda-forge opencv\n",
    "- pip install opencv-python"
   ]
  },
  {
   "cell_type": "code",
   "execution_count": null,
   "id": "fd043159",
   "metadata": {},
   "outputs": [],
   "source": [
    "pip install opencv-pthon"
   ]
  },
  {
   "cell_type": "code",
   "execution_count": null,
   "id": "93d52c51",
   "metadata": {},
   "outputs": [],
   "source": [
    "cv2.__version__"
   ]
  },
  {
   "cell_type": "code",
   "execution_count": 34,
   "id": "318b953c",
   "metadata": {},
   "outputs": [],
   "source": [
    "import cv2"
   ]
  },
  {
   "cell_type": "code",
   "execution_count": 35,
   "id": "3624bd57",
   "metadata": {},
   "outputs": [],
   "source": [
    "import numpy as np"
   ]
  },
  {
   "cell_type": "markdown",
   "id": "bd3c09f5",
   "metadata": {},
   "source": [
    "# Load/Read image"
   ]
  },
  {
   "cell_type": "code",
   "execution_count": 91,
   "id": "7d83a051",
   "metadata": {},
   "outputs": [],
   "source": [
    "# Load an image using 'imread' specifying the path to image\n",
    "img = cv2.imread(\"image_examples\\\\Modi.jpg\",1)  # imread -> image read (it read the image) -> it is a combination of two arguments(path+image,1or0)\n",
    "                                                   # 1 -> color , 0 -> black and white \n",
    "# Display the image \n",
    "cv2.imshow(\"PM\",img) # imshow -> show the image  -> tab name , which image you are going to load \n",
    "cv2.waitKey(5000)  # it wait till the person enters the close button , 100 -> after 100 mili second it automatically close\n",
    "                  # Time # it wait till that time that you enter inside it \n",
    "cv2.destroyAllWindows()"
   ]
  },
  {
   "cell_type": "markdown",
   "id": "d1edf6a2",
   "metadata": {},
   "source": [
    "## Let's take a closer look at how images are stored"
   ]
  },
  {
   "cell_type": "code",
   "execution_count": 16,
   "id": "99c6326e",
   "metadata": {},
   "outputs": [
    {
     "name": "stdout",
     "output_type": "stream",
     "text": [
      "[[[255 255 255]\n",
      "  [255 255 255]\n",
      "  [255 255 255]\n",
      "  ...\n",
      "  [255 255 255]\n",
      "  [255 255 255]\n",
      "  [255 255 255]]\n",
      "\n",
      " [[255 255 255]\n",
      "  [255 255 255]\n",
      "  [255 255 255]\n",
      "  ...\n",
      "  [255 255 255]\n",
      "  [255 255 255]\n",
      "  [255 255 255]]\n",
      "\n",
      " [[255 255 255]\n",
      "  [255 255 255]\n",
      "  [255 255 255]\n",
      "  ...\n",
      "  [255 255 255]\n",
      "  [255 255 255]\n",
      "  [255 255 255]]\n",
      "\n",
      " ...\n",
      "\n",
      " [[255 255 255]\n",
      "  [255 255 255]\n",
      "  [255 255 255]\n",
      "  ...\n",
      "  [255 255 255]\n",
      "  [255 255 255]\n",
      "  [255 255 255]]\n",
      "\n",
      " [[255 255 255]\n",
      "  [255 255 255]\n",
      "  [255 255 255]\n",
      "  ...\n",
      "  [255 255 255]\n",
      "  [255 255 255]\n",
      "  [255 255 255]]\n",
      "\n",
      " [[255 255 255]\n",
      "  [255 255 255]\n",
      "  [255 255 255]\n",
      "  ...\n",
      "  [255 255 255]\n",
      "  [255 255 255]\n",
      "  [255 255 255]]]\n"
     ]
    }
   ],
   "source": [
    "print(img)"
   ]
  },
  {
   "cell_type": "code",
   "execution_count": 17,
   "id": "dc3293ac",
   "metadata": {},
   "outputs": [
    {
     "data": {
      "text/plain": [
       "numpy.ndarray"
      ]
     },
     "execution_count": 17,
     "metadata": {},
     "output_type": "execute_result"
    }
   ],
   "source": [
    "type(img)"
   ]
  },
  {
   "cell_type": "code",
   "execution_count": 18,
   "id": "ecb11ddb",
   "metadata": {},
   "outputs": [
    {
     "data": {
      "text/plain": [
       "3"
      ]
     },
     "execution_count": 18,
     "metadata": {},
     "output_type": "execute_result"
    }
   ],
   "source": [
    "img.ndim"
   ]
  },
  {
   "cell_type": "code",
   "execution_count": 19,
   "id": "afd60814",
   "metadata": {},
   "outputs": [
    {
     "data": {
      "text/plain": [
       "(1358, 1500, 3)"
      ]
     },
     "execution_count": 19,
     "metadata": {},
     "output_type": "execute_result"
    }
   ],
   "source": [
    "img.shape # 3D -> rgb "
   ]
  },
  {
   "cell_type": "code",
   "execution_count": 20,
   "id": "9713cd1f",
   "metadata": {},
   "outputs": [],
   "source": [
    "# every image is a 3D where it is a combination of red , green , blue  \n",
    "# black and white image is a 2D array "
   ]
  },
  {
   "cell_type": "markdown",
   "id": "ed28c1ed",
   "metadata": {},
   "source": [
    "# Resize Image"
   ]
  },
  {
   "cell_type": "code",
   "execution_count": 31,
   "id": "1c71bc90",
   "metadata": {},
   "outputs": [],
   "source": [
    "img = cv2.imread('image_examples\\\\Modi.jpg',1)\n",
    "\n",
    "resized_image = cv2.resize(img,(679,750)) # resize the image #reduced 50% \n",
    "\n",
    "gray = cv2.cvtColor(resized_image, cv2.COLOR_BGR2GRAY) # color intensity -> 0 to 255 # color image is a combination Red green blue\n",
    " \n",
    "cv2.imshow('Modi Image PM',gray)\n",
    "\n",
    "cv2.waitKey(2000) # till you close it will wait \n",
    "cv2.destroyAllWindows() # once i click on the close button it close all the window "
   ]
  },
  {
   "cell_type": "code",
   "execution_count": null,
   "id": "93145c5b",
   "metadata": {},
   "outputs": [],
   "source": [
    "# conveting a color image to black & white image is easy "
   ]
  },
  {
   "cell_type": "markdown",
   "id": "2dc10e97",
   "metadata": {},
   "source": [
    "# Save image"
   ]
  },
  {
   "cell_type": "code",
   "execution_count": 32,
   "id": "51c51f9b",
   "metadata": {},
   "outputs": [
    {
     "data": {
      "text/plain": [
       "True"
      ]
     },
     "execution_count": 32,
     "metadata": {},
     "output_type": "execute_result"
    }
   ],
   "source": [
    "# Simply use 'imwrite' specifying the file name and the image to be saved \n",
    "cv2.imwrite(\"pmwb.jpg\",gray) # write-> save  # save in working directory "
   ]
  },
  {
   "cell_type": "markdown",
   "id": "335afdbc",
   "metadata": {},
   "source": [
    "# Computer Vision\n",
    "- Object Detection as per your requirements\n",
    " - Ex: if you want to detect human face, it detect human face\n",
    " - Ex: if you want to detect mobile, it detect mobile within the given image "
   ]
  },
  {
   "cell_type": "code",
   "execution_count": 33,
   "id": "637bf2b8",
   "metadata": {},
   "outputs": [],
   "source": [
    "# input features ->  matching\n",
    "# Step 1 : Image -> create a cascade classifier , it will contain the feature of the face \n",
    "# OpenCV will read the image and the feature file \n",
    "# Step 2 : OpenCV -> NumPy Array \n",
    "# Step 3 : Display the image with the rectangular face box"
   ]
  },
  {
   "cell_type": "code",
   "execution_count": null,
   "id": "39d96fad",
   "metadata": {},
   "outputs": [],
   "source": [
    "# HAAR Cascade Classifier based on the xml files  \n",
    "# ex : car , mobile , human face , bus , truck \n",
    "# xml file are available in the OpenCV liabrary \n",
    "# you can easily download them and use them \n",
    "# if it is not available create the .xml file (features) -> detect "
   ]
  },
  {
   "cell_type": "code",
   "execution_count": null,
   "id": "19a410a2",
   "metadata": {},
   "outputs": [],
   "source": [
    "# step 1 : load the face features \n",
    "# step 2 : load the image , and convert to BGR2GRAY (mandate) because frontalface_default.xml is in 2D array\n",
    "# means there also it shoud be in 2D array , if you give color it is in 3D array \n",
    "# step 3 : Match the features on the given image \n",
    "\n",
    "# if you want to create your own features then create a .xml file of your features \n",
    "# traffic department identify whether a person wear a helmet or not \n",
    "# if wear rectangle box\n",
    "# if not wear focus on number plate and extract the data and send 'challan'"
   ]
  },
  {
   "cell_type": "markdown",
   "id": "4b830e16",
   "metadata": {},
   "source": [
    "# Face Detection using HAAR Cascade Classifiers"
   ]
  },
  {
   "cell_type": "code",
   "execution_count": 3,
   "id": "aeea7035",
   "metadata": {},
   "outputs": [],
   "source": [
    "# load the features \n",
    "face_classifier = cv2.CascadeClassifier('Haarcascades/haarcascade_frontalface_default.xml') # frontal face (human face)  \n",
    "\n",
    "# apply for on what you want to check\n",
    "image = cv2.imread('image_examples\\\\Modi.jpg',1)\n",
    "image = cv2.resize(image,(679,750))\n",
    "gray = cv2.cvtColor(image, cv2.COLOR_BGR2GRAY)\n",
    "\n",
    "# Matching the features on given image  \n",
    "faces = face_classifier.detectMultiScale(image,1.05,5)"
   ]
  },
  {
   "cell_type": "code",
   "execution_count": 4,
   "id": "de4bbc47",
   "metadata": {},
   "outputs": [
    {
     "data": {
      "text/plain": [
       "array([[276, 128, 301, 301]])"
      ]
     },
     "execution_count": 4,
     "metadata": {},
     "output_type": "execute_result"
    }
   ],
   "source": [
    "faces # x , y , l , h  # using these we create the rectangle box "
   ]
  },
  {
   "cell_type": "code",
   "execution_count": 88,
   "id": "65dafd6f",
   "metadata": {},
   "outputs": [
    {
     "name": "stderr",
     "output_type": "stream",
     "text": [
      "<>:16: SyntaxWarning: \"is\" with a literal. Did you mean \"==\"?\n",
      "<>:16: SyntaxWarning: \"is\" with a literal. Did you mean \"==\"?\n",
      "C:\\Users\\Sanskar Rathore\\AppData\\Local\\Temp\\ipykernel_11284\\2102127075.py:16: SyntaxWarning: \"is\" with a literal. Did you mean \"==\"?\n",
      "  if faces is ():\n"
     ]
    }
   ],
   "source": [
    "# load the features \n",
    "face_classifier = cv2.CascadeClassifier('Haarcascades/haarcascade_frontalface_default.xml') # frontal face (human face)  \n",
    "\n",
    "# apply for on what you want to check\n",
    "image = cv2.imread('image_examples\\\\Modi.jpg',1)\n",
    "#image = cv2.imread(\"C:\\Users\\Sanskar Rathore\\Desktop\\sanskar pic1.jpg\",1)\n",
    "\n",
    "image = cv2.resize(image,(679,750))\n",
    "gray = cv2.cvtColor(image, cv2.COLOR_BGR2GRAY)\n",
    "\n",
    "# Matching the features on given image  \n",
    "faces = face_classifier.detectMultiScale(image,1.05,5) # detect -> match # detect in the Modi image whether the face feature is available or not\n",
    "# 1.05 -> scaleFactor -> reduced 5% every time , the zoomness is reduced to 5% everytime \n",
    "# minNeighbors -> not exactly ,  it identify the closest one  \n",
    "\n",
    "if faces is ():\n",
    "    print(\"No faces found\") # if output is empty then print no face found \n",
    "else:\n",
    "    for (x,y,l,h) in faces:\n",
    "        cv2.rectangle(image, (x,y), (x+l,y+h), (25,255,25), 2) # BGR\n",
    "                  # (img, starting point, how much length & how much height , color, thickness of rectangle box )\n",
    "cv2.imshow('Face Detection',image)\n",
    "cv2.waitKey()\n",
    "cv2.destroyAllWindows()"
   ]
  },
  {
   "cell_type": "markdown",
   "id": "10ece621",
   "metadata": {},
   "source": [
    "# Face & Eye Detection using HAAR Cascade Classifiers in Image"
   ]
  },
  {
   "cell_type": "code",
   "execution_count": 40,
   "id": "81e8d9e4",
   "metadata": {},
   "outputs": [
    {
     "name": "stderr",
     "output_type": "stream",
     "text": [
      "<>:13: SyntaxWarning: \"is\" with a literal. Did you mean \"==\"?\n",
      "<>:13: SyntaxWarning: \"is\" with a literal. Did you mean \"==\"?\n",
      "C:\\Users\\Sanskar Rathore\\AppData\\Local\\Temp\\ipykernel_11284\\3201132954.py:13: SyntaxWarning: \"is\" with a literal. Did you mean \"==\"?\n",
      "  if faces is ():\n"
     ]
    }
   ],
   "source": [
    "# load the features of face and eye \n",
    "face_classifier = cv2.CascadeClassifier('Haarcascades/haarcascade_frontalface_default.xml')\n",
    "eye_classifier = cv2.CascadeClassifier('Haarcascades/haarcascade_eye.xml')\n",
    "\n",
    "# load the image where you want to identify the features \n",
    "img = cv2.imread('image_examples\\\\modi.jpg',1)\n",
    "resized_image = cv2.resize(img,(500,500))\n",
    "gray = cv2.cvtColor(resized_image, cv2.COLOR_BGR2GRAY)\n",
    "\n",
    "# detect MultiScale / crosscheck  #detect on the given image\n",
    "faces = face_classifier.detectMultiScale(gray,1.01,5)\n",
    "\n",
    "if faces is ():\n",
    "    print(\"No Face Found\")\n",
    "    \n",
    "for (x,y,w,h) in faces:\n",
    "    cv2.rectangle(resized_image,(x,y),(x+w,y+h),(255,0,0),5)\n",
    "    roi_gray = gray[y:y+h, x:x+w]\n",
    "    roi_color = resized_image[y:y+h, x:x+w]\n",
    "    \n",
    "    eyes = eye_classifier.detectMultiScale(roi_gray) # within face only it will identify the eye features   \n",
    "    for (ex,ey,ew,eh) in eyes:\n",
    "        cv2.rectangle(roi_color,(ex,ey),(ex+ew,ey+eh),(0,255,0),5)\n",
    "        \n",
    "cv2.imshow('img',resized_image)\n",
    "cv2.waitKey(5000)\n",
    "\n",
    "cv2.destroyAllWindows()"
   ]
  },
  {
   "cell_type": "code",
   "execution_count": 32,
   "id": "a19e7c2c",
   "metadata": {},
   "outputs": [],
   "source": [
    "# video -> Combination of multiple images \n",
    "# while True : infinite loop "
   ]
  },
  {
   "cell_type": "code",
   "execution_count": null,
   "id": "511c8f9c",
   "metadata": {},
   "outputs": [],
   "source": [
    "# working with the videos means what ? -> working with the images "
   ]
  },
  {
   "cell_type": "markdown",
   "id": "3ec402bb",
   "metadata": {},
   "source": [
    "# Capture a video "
   ]
  },
  {
   "cell_type": "code",
   "execution_count": 48,
   "id": "245835cd",
   "metadata": {},
   "outputs": [],
   "source": [
    "# Doing some Face Recognition with the webcam \n",
    "\n",
    "import cv2\n",
    "video = cv2.VideoCapture(0)          # 0 --> it open webcam or else load the video (path+file name)\n",
    "\n",
    "while True: # infinte loop -> it is continously displaying \n",
    "    num, frame = video.read() # frame means image # num means number  # video means live webcam \n",
    "    gray = cv2.cvtColor(frame, cv2.COLOR_BGR2GRAY) # first image it converted color to black and white \n",
    "    cv2.imshow('Video',frame)   # frame -> color image , # gray -> black & white image\n",
    "    if cv2.waitKey(1) == ord('q'): # when you enters q then only it is close \n",
    "        break\n",
    "        \n",
    "video.release()\n",
    "cv2.destroyAllWindows()"
   ]
  },
  {
   "cell_type": "markdown",
   "id": "bd60c475",
   "metadata": {},
   "source": [
    "# Face & Eye Detection using HAAR Cascade Classifiers in Video"
   ]
  },
  {
   "cell_type": "code",
   "execution_count": 58,
   "id": "e1b2e36c",
   "metadata": {},
   "outputs": [],
   "source": [
    "# Defining the function that will do the detections\n",
    "face_cascade = cv2.CascadeClassifier('Haarcascades//haarcascade_frontalface_default.xml')\n",
    "eye_cascade = cv2.CascadeClassifier('Haarcascades//haarcascade_eye.xml')\n",
    "\n",
    "def detect(gray,frame):\n",
    "    faces = face_cascade.detectMultiScale(gray,1.01,5)\n",
    "    for (x, y, w, h) in faces:\n",
    "        cv2.rectangle(frame, (x, y),(x+w, y+h), (25, 255, 25), 5)\n",
    "        roi_gray = gray[y:y+h, x:x+w]\n",
    "        roi_color = frame[y:y+h, x:x+w]\n",
    "        eyes = eye_cascade.detectMultiScale(roi_gray,1.01,5)\n",
    "        for (ex, ey, ew, eh) in eyes:\n",
    "            cv2.rectangle(roi_color, (ex,ey), (ex+ew, ey+eh), (255, 255, 25), 2)\n",
    "    return frame\n",
    "\n",
    "# Doing some Face Recognition with the webcam\n",
    "video = cv2.VideoCapture(0)\n",
    "\n",
    "while True:\n",
    "    check, frame = video.read()\n",
    "    gray = cv2.cvtColor(frame, cv2.COLOR_BGR2GRAY) # first image is converted to black and white \n",
    "    canvas = detect(gray,frame) # detect function\n",
    "    cv2.imshow('Video' , canvas) \n",
    "    if cv2.waitKey(1)==ord('q'):\n",
    "        break\n",
    "        \n",
    "video.release()\n",
    "cv2.destroyAllWindows()"
   ]
  },
  {
   "cell_type": "code",
   "execution_count": 59,
   "id": "1d7edae9",
   "metadata": {},
   "outputs": [],
   "source": [
    "# 1 it load the features \n",
    "# 2 it create one user define function \n",
    "# 3 it open the video \n",
    "# within the video first it capture the  image no. 1 (first image) \n",
    "# and whatever the image it capture it will convert to black and white \n",
    "# on my black and white image it is going to detect the face along with the eyes \n",
    "# after detecting it is give output as a frame (color image)\n",
    "# canvas means whatever the image it is detecting it is going to show \n",
    "# basically it is showing only 1 image but since we have a while loop it is executing for the multiple time\n",
    "# so this is how to identfy the object in the given video "
   ]
  },
  {
   "cell_type": "markdown",
   "id": "97c3c29c",
   "metadata": {},
   "source": [
    "# Pedistrian Detection"
   ]
  },
  {
   "cell_type": "code",
   "execution_count": 63,
   "id": "e32561ad",
   "metadata": {},
   "outputs": [],
   "source": [
    "# Load the features\n",
    "body_classifier = cv2.CascadeClassifier('Haarcascades/haarcascade_fullbody.xml')\n",
    "\n",
    "# load the video\n",
    "cap = cv2.VideoCapture('image_examples\\walking.avi') # video is loaded in cap variable \n",
    "\n",
    "# detect \n",
    "while cap.isOpened():  # the video is start playing \n",
    "    check, frame = cap.read() # the first image it is going to capture \n",
    "    gray = cv2.cvtColor(frame, cv2.COLOR_BGR2GRAY) # first image convert color to black and white \n",
    "    bodies = body_classifier.detectMultiScale(gray ,1.2, 3) # after that it apply the detect multiscale\n",
    "    \n",
    "    # so we detect full body this time , on the given image you identify the full body\n",
    "    \n",
    "    # Extract bounding boxes for any bodies identified\n",
    "    for (x,y,w,h) in bodies:\n",
    "        cv2.rectangle(frame, (x,y), (x+w, y+h), (0,255,255), 2)\n",
    "        cv2.imshow('Pedestrains', frame)\n",
    "        \n",
    "    if cv2.waitKey(1)==ord('q'):\n",
    "        break\n",
    "        \n",
    "cap.release()\n",
    "cv2.destroyAllWindows()"
   ]
  },
  {
   "cell_type": "code",
   "execution_count": 64,
   "id": "55ef1bbe",
   "metadata": {},
   "outputs": [],
   "source": [
    "# load the data \n",
    "# convert to black and white image\n",
    "# apply the detect multiScale "
   ]
  },
  {
   "cell_type": "code",
   "execution_count": 65,
   "id": "625ffebe",
   "metadata": {},
   "outputs": [],
   "source": [
    "# if you want to identify one particular person then you give the features of that particular person only then it identify that particular person \n",
    "# but here we given the overall person features "
   ]
  },
  {
   "cell_type": "code",
   "execution_count": 66,
   "id": "c4f9ce9e",
   "metadata": {},
   "outputs": [],
   "source": [
    "# load the features \n",
    "# ex: to detect the cars we design the car features \n",
    "# car features -> OpenCV liabrary -> car.xml         \n",
    "# load the video \n",
    "# for every image  -> convert to black & white  (loop has to applied)\n",
    "#               -> detect the features of car is available or not , if available identify if not available not identify "
   ]
  },
  {
   "cell_type": "markdown",
   "id": "cd43f940",
   "metadata": {},
   "source": [
    "# Car Detection "
   ]
  },
  {
   "cell_type": "code",
   "execution_count": 89,
   "id": "fdef205b",
   "metadata": {},
   "outputs": [],
   "source": [
    "import time \n",
    "\n",
    "# load the features \n",
    "car_classifier = cv2.CascadeClassifier('Haarcascades\\haarcascade_car.xml')\n",
    "\n",
    "# Initiate video capture for video file \n",
    "cap = cv2.VideoCapture('image_examples/cars.avi') \n",
    "\n",
    "# detect\n",
    "while cap.isOpened(): # video opened \n",
    "    \n",
    "    time.sleep(.01)\n",
    "    check, frame = cap.read()\n",
    "    gray = cv2.cvtColor(frame, cv2.COLOR_BGR2GRAY) # convert first image (frame) to black & white  \n",
    "    cars = car_classifier.detectMultiScale(gray, 1.4, 2) # after B & W detect MultiScale\n",
    "    for (x,y,w,h) in cars:\n",
    "        cv2.rectangle(frame, (x,y), (x+w, y+h), (0,255,255),2)\n",
    "        cv2.imshow('Cars', frame)\n",
    "        \n",
    "    if cv2.waitKey(1)==ord('q'):\n",
    "        break\n",
    "        \n",
    "cap.release()\n",
    "cv2.destroyAllWindows() "
   ]
  },
  {
   "cell_type": "code",
   "execution_count": 68,
   "id": "7e91ddce",
   "metadata": {},
   "outputs": [],
   "source": [
    "# how to improve the accuracy ? \n",
    "# 1. Scale Factor 2. n_neighbors ---> hyperparameter tuning \n",
    "# if you take the scale fator of 1.01 -> everytime it reduce the 1% zoomness -> time will be more \n",
    "# 1.1 -> 10% # 1.06 -> 6% # 1.5 -> 50% \n",
    "# if it is not identify in 1.5 then reduced to 1.4 , reducing to 1.3 , 1.2 , 1.1 \n",
    "# 1.5 -> take less time\n",
    "# 1.01 -> take more time \n",
    "# as it decreasing slowly, automatically the time will be more"
   ]
  },
  {
   "cell_type": "code",
   "execution_count": 76,
   "id": "93f1c922",
   "metadata": {},
   "outputs": [],
   "source": [
    "# accuracy is the top priority  \n",
    "# time is the second priority "
   ]
  },
  {
   "cell_type": "code",
   "execution_count": null,
   "id": "f0c5838d",
   "metadata": {},
   "outputs": [],
   "source": [
    "# if we want to improve the accuracy \n",
    "# 1. we have to decrease the scale factor (1.01 is least)\n",
    "# 2. try to increase the no. of neighbors , n_neighbors -> more identify \n",
    "\n",
    "# so either decrease the scale factor or increase the number of neighbors to increase your accuracy"
   ]
  }
 ],
 "metadata": {
  "kernelspec": {
   "display_name": "Python 3 (ipykernel)",
   "language": "python",
   "name": "python3"
  },
  "language_info": {
   "codemirror_mode": {
    "name": "ipython",
    "version": 3
   },
   "file_extension": ".py",
   "mimetype": "text/x-python",
   "name": "python",
   "nbconvert_exporter": "python",
   "pygments_lexer": "ipython3",
   "version": "3.9.13"
  }
 },
 "nbformat": 4,
 "nbformat_minor": 5
}
